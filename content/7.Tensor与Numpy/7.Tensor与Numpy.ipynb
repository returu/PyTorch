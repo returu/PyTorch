{
 "cells": [
  {
   "cell_type": "code",
   "execution_count": 1,
   "id": "6cc40916",
   "metadata": {},
   "outputs": [],
   "source": [
    "import numpy as np\n",
    "import torch"
   ]
  },
  {
   "cell_type": "markdown",
   "id": "829d8116",
   "metadata": {},
   "source": [
    "## 1.torch.from_numpy()："
   ]
  },
  {
   "cell_type": "code",
   "execution_count": 2,
   "id": "0dbc039e",
   "metadata": {},
   "outputs": [],
   "source": [
    "# 创建一个 NumPy 数组  \n",
    "numpy_array = np.array([[1, 2, 3], [4, 5, 6]])  "
   ]
  },
  {
   "cell_type": "code",
   "execution_count": 3,
   "id": "ca6a3d5c",
   "metadata": {},
   "outputs": [],
   "source": [
    "# 将 NumPy 数组转换为 PyTorch 张量  \n",
    "tensor = torch.from_numpy(numpy_array)  "
   ]
  },
  {
   "cell_type": "code",
   "execution_count": 4,
   "id": "0ee16038",
   "metadata": {},
   "outputs": [],
   "source": [
    "# 修改 PyTorch 张量的一个元素  \n",
    "tensor[0, 0] = 100"
   ]
  },
  {
   "cell_type": "code",
   "execution_count": 5,
   "id": "217a38a3",
   "metadata": {},
   "outputs": [
    {
     "data": {
      "text/plain": [
       "array([[100,   2,   3],\n",
       "       [  4,   5,   6]])"
      ]
     },
     "execution_count": 5,
     "metadata": {},
     "output_type": "execute_result"
    }
   ],
   "source": [
    "# NumPy 数组也发生了改变  \n",
    "numpy_array"
   ]
  },
  {
   "cell_type": "code",
   "execution_count": 6,
   "id": "623bc7ea",
   "metadata": {},
   "outputs": [
    {
     "data": {
      "text/plain": [
       "tensor([[100,   2,   3],\n",
       "        [  4, 200,   6]], dtype=torch.int32)"
      ]
     },
     "execution_count": 6,
     "metadata": {},
     "output_type": "execute_result"
    }
   ],
   "source": [
    "# 同样地，如果修改 NumPy 数组，PyTorch 张量也会改变  \n",
    "numpy_array[1, 1] = 200  \n",
    "tensor"
   ]
  },
  {
   "cell_type": "markdown",
   "id": "d84c94c7",
   "metadata": {},
   "source": [
    "### 1.1 创建不共享内存的独立张量："
   ]
  },
  {
   "cell_type": "markdown",
   "id": "2111c802",
   "metadata": {},
   "source": [
    "#### torch.tensor()："
   ]
  },
  {
   "cell_type": "code",
   "execution_count": 7,
   "id": "5d063907",
   "metadata": {},
   "outputs": [
    {
     "data": {
      "text/plain": [
       "array([[1, 2, 3],\n",
       "       [4, 5, 6]])"
      ]
     },
     "execution_count": 7,
     "metadata": {},
     "output_type": "execute_result"
    }
   ],
   "source": [
    "# 创建一个 NumPy 数组  \n",
    "numpy_array = np.array([[1, 2, 3], [4, 5, 6]])\n",
    "numpy_array"
   ]
  },
  {
   "cell_type": "code",
   "execution_count": 8,
   "id": "a90c35d9",
   "metadata": {},
   "outputs": [
    {
     "data": {
      "text/plain": [
       "tensor([[1., 2., 3.],\n",
       "        [4., 5., 6.]])"
      ]
     },
     "execution_count": 8,
     "metadata": {},
     "output_type": "execute_result"
    }
   ],
   "source": [
    "# 创建一个与原始 NumPy 数组不共享内存的新张量  \n",
    "tensor_independent = torch.tensor(numpy_array, dtype=torch.float32)  # 可以指定数据类型 \n",
    "tensor_independent"
   ]
  },
  {
   "cell_type": "code",
   "execution_count": 9,
   "id": "0b20a96e",
   "metadata": {},
   "outputs": [
    {
     "data": {
      "text/plain": [
       "array([[  1,   2,   3],\n",
       "       [  4, 200,   6]])"
      ]
     },
     "execution_count": 9,
     "metadata": {},
     "output_type": "execute_result"
    }
   ],
   "source": [
    "numpy_array[1, 1] = 200  \n",
    "numpy_array"
   ]
  },
  {
   "cell_type": "code",
   "execution_count": 10,
   "id": "82b41f9f",
   "metadata": {},
   "outputs": [
    {
     "data": {
      "text/plain": [
       "tensor([[1., 2., 3.],\n",
       "        [4., 5., 6.]])"
      ]
     },
     "execution_count": 10,
     "metadata": {},
     "output_type": "execute_result"
    }
   ],
   "source": [
    "tensor_independent"
   ]
  },
  {
   "cell_type": "markdown",
   "id": "21e38aa9",
   "metadata": {},
   "source": [
    "#### copy() + torch.from_numpy()："
   ]
  },
  {
   "cell_type": "code",
   "execution_count": 11,
   "id": "a21509f5",
   "metadata": {},
   "outputs": [
    {
     "data": {
      "text/plain": [
       "array([[1, 2, 3],\n",
       "       [4, 5, 6]])"
      ]
     },
     "execution_count": 11,
     "metadata": {},
     "output_type": "execute_result"
    }
   ],
   "source": [
    "# 创建一个 NumPy 数组  \n",
    "numpy_array = np.array([[1, 2, 3], [4, 5, 6]])\n",
    "numpy_array"
   ]
  },
  {
   "cell_type": "code",
   "execution_count": 12,
   "id": "2cd66539",
   "metadata": {},
   "outputs": [
    {
     "data": {
      "text/plain": [
       "tensor([[1, 2, 3],\n",
       "        [4, 5, 6]], dtype=torch.int32)"
      ]
     },
     "execution_count": 12,
     "metadata": {},
     "output_type": "execute_result"
    }
   ],
   "source": [
    "# 创建 NumPy 数组副本，然后再转换为张量  \n",
    "numpy_array_copy = numpy_array.copy()  \n",
    "tensor_independent = torch.from_numpy(numpy_array_copy)\n",
    "tensor_independent"
   ]
  },
  {
   "cell_type": "code",
   "execution_count": 13,
   "id": "53973fd5",
   "metadata": {},
   "outputs": [
    {
     "data": {
      "text/plain": [
       "array([[  1,   2,   3],\n",
       "       [  4, 200,   6]])"
      ]
     },
     "execution_count": 13,
     "metadata": {},
     "output_type": "execute_result"
    }
   ],
   "source": [
    "numpy_array[1, 1] = 200  \n",
    "numpy_array"
   ]
  },
  {
   "cell_type": "code",
   "execution_count": 14,
   "id": "8dd40798",
   "metadata": {},
   "outputs": [
    {
     "data": {
      "text/plain": [
       "tensor([[1, 2, 3],\n",
       "        [4, 5, 6]], dtype=torch.int32)"
      ]
     },
     "execution_count": 14,
     "metadata": {},
     "output_type": "execute_result"
    }
   ],
   "source": [
    "tensor_independent"
   ]
  },
  {
   "cell_type": "markdown",
   "id": "6e5f340f",
   "metadata": {},
   "source": [
    "## 2.torch.numpy()："
   ]
  },
  {
   "cell_type": "code",
   "execution_count": 15,
   "id": "043ae9f3",
   "metadata": {},
   "outputs": [],
   "source": [
    "# 假设有一个在 CPU 上的 PyTorch 张量  \n",
    "cpu_tensor = torch.tensor([1, 2, 3])  "
   ]
  },
  {
   "cell_type": "code",
   "execution_count": 16,
   "id": "3470510d",
   "metadata": {},
   "outputs": [],
   "source": [
    "# 使用 .numpy() 将其转换为 Numpy 数组  \n",
    "numpy_array_from_tensor = cpu_tensor.numpy()  "
   ]
  },
  {
   "cell_type": "code",
   "execution_count": 17,
   "id": "4b5a33c2",
   "metadata": {},
   "outputs": [],
   "source": [
    "# 修改 Numpy 数组  \n",
    "numpy_array_from_tensor[0] = 10  "
   ]
  },
  {
   "cell_type": "code",
   "execution_count": 18,
   "id": "ff4c778a",
   "metadata": {},
   "outputs": [
    {
     "data": {
      "text/plain": [
       "tensor([10,  2,  3])"
      ]
     },
     "execution_count": 18,
     "metadata": {},
     "output_type": "execute_result"
    }
   ],
   "source": [
    "# 原始的 PyTorch 张量也发生了改变  \n",
    "cpu_tensor"
   ]
  },
  {
   "cell_type": "markdown",
   "id": "545a27a7",
   "metadata": {},
   "source": [
    "### 2.1 张量在 GPU 上："
   ]
  },
  {
   "cell_type": "code",
   "execution_count": 19,
   "id": "837e024f",
   "metadata": {},
   "outputs": [],
   "source": [
    "# 假设有一个在 GPU 上的 PyTorch 张量  \n",
    "gpu_tensor = torch.tensor([1, 2, 3] , device=\"cuda\")"
   ]
  },
  {
   "cell_type": "code",
   "execution_count": 20,
   "id": "a8748e84",
   "metadata": {},
   "outputs": [
    {
     "ename": "TypeError",
     "evalue": "can't convert cuda:0 device type tensor to numpy. Use Tensor.cpu() to copy the tensor to host memory first.",
     "output_type": "error",
     "traceback": [
      "\u001b[1;31m---------------------------------------------------------------------------\u001b[0m",
      "\u001b[1;31mTypeError\u001b[0m                                 Traceback (most recent call last)",
      "Cell \u001b[1;32mIn[20], line 2\u001b[0m\n\u001b[0;32m      1\u001b[0m \u001b[38;5;66;03m# 这会抛出错误   \u001b[39;00m\n\u001b[1;32m----> 2\u001b[0m numpy_array_from_gpu_tensor \u001b[38;5;241m=\u001b[39m \u001b[43mgpu_tensor\u001b[49m\u001b[38;5;241;43m.\u001b[39;49m\u001b[43mnumpy\u001b[49m\u001b[43m(\u001b[49m\u001b[43m)\u001b[49m\n",
      "\u001b[1;31mTypeError\u001b[0m: can't convert cuda:0 device type tensor to numpy. Use Tensor.cpu() to copy the tensor to host memory first."
     ]
    }
   ],
   "source": [
    "# 这会抛出错误   \n",
    "numpy_array_from_gpu_tensor = gpu_tensor.numpy()"
   ]
  },
  {
   "cell_type": "code",
   "execution_count": 21,
   "id": "68e24739",
   "metadata": {},
   "outputs": [
    {
     "data": {
      "text/plain": [
       "array([1, 2, 3], dtype=int64)"
      ]
     },
     "execution_count": 21,
     "metadata": {},
     "output_type": "execute_result"
    }
   ],
   "source": [
    "# 正确的做法  \n",
    "numpy_array_from_gpu_tensor = gpu_tensor.to(device=\"cpu\").numpy()\n",
    "numpy_array_from_gpu_tensor"
   ]
  },
  {
   "cell_type": "code",
   "execution_count": null,
   "id": "28b8e745",
   "metadata": {},
   "outputs": [],
   "source": []
  },
  {
   "cell_type": "code",
   "execution_count": null,
   "id": "13c16a14",
   "metadata": {},
   "outputs": [],
   "source": []
  },
  {
   "cell_type": "code",
   "execution_count": null,
   "id": "80ece50e",
   "metadata": {},
   "outputs": [],
   "source": []
  },
  {
   "cell_type": "code",
   "execution_count": null,
   "id": "995a5b28",
   "metadata": {},
   "outputs": [],
   "source": []
  },
  {
   "cell_type": "code",
   "execution_count": null,
   "id": "7bebdb08",
   "metadata": {},
   "outputs": [],
   "source": []
  },
  {
   "cell_type": "code",
   "execution_count": null,
   "id": "7a6a0a9b",
   "metadata": {},
   "outputs": [],
   "source": []
  },
  {
   "cell_type": "code",
   "execution_count": null,
   "id": "d89a4dbf",
   "metadata": {},
   "outputs": [],
   "source": []
  },
  {
   "cell_type": "code",
   "execution_count": null,
   "id": "ca0545ab",
   "metadata": {},
   "outputs": [],
   "source": []
  },
  {
   "cell_type": "code",
   "execution_count": null,
   "id": "6f808cb4",
   "metadata": {},
   "outputs": [],
   "source": []
  },
  {
   "cell_type": "code",
   "execution_count": null,
   "id": "8d1d9974",
   "metadata": {},
   "outputs": [],
   "source": []
  },
  {
   "cell_type": "code",
   "execution_count": null,
   "id": "b913a9a0",
   "metadata": {},
   "outputs": [],
   "source": []
  },
  {
   "cell_type": "code",
   "execution_count": null,
   "id": "abe5a62c",
   "metadata": {},
   "outputs": [],
   "source": []
  },
  {
   "cell_type": "code",
   "execution_count": null,
   "id": "6bdc9ed8",
   "metadata": {},
   "outputs": [],
   "source": []
  },
  {
   "cell_type": "code",
   "execution_count": null,
   "id": "f204f73e",
   "metadata": {},
   "outputs": [],
   "source": []
  },
  {
   "cell_type": "code",
   "execution_count": null,
   "id": "2fa59390",
   "metadata": {},
   "outputs": [],
   "source": []
  },
  {
   "cell_type": "code",
   "execution_count": null,
   "id": "dad90e56",
   "metadata": {},
   "outputs": [],
   "source": []
  }
 ],
 "metadata": {
  "kernelspec": {
   "display_name": "Python 3 (ipykernel)",
   "language": "python",
   "name": "python3"
  },
  "language_info": {
   "codemirror_mode": {
    "name": "ipython",
    "version": 3
   },
   "file_extension": ".py",
   "mimetype": "text/x-python",
   "name": "python",
   "nbconvert_exporter": "python",
   "pygments_lexer": "ipython3",
   "version": "3.9.16"
  }
 },
 "nbformat": 4,
 "nbformat_minor": 5
}
