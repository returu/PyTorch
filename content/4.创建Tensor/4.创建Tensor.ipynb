{
 "cells": [
  {
   "cell_type": "code",
   "execution_count": 1,
   "id": "6cc40916",
   "metadata": {},
   "outputs": [],
   "source": [
    "import numpy as np\n",
    "import torch"
   ]
  },
  {
   "cell_type": "code",
   "execution_count": 2,
   "id": "182bac96",
   "metadata": {},
   "outputs": [],
   "source": [
    "# 忽略警告\n",
    "import warnings\n",
    "warnings.filterwarnings(\"ignore\")"
   ]
  },
  {
   "cell_type": "markdown",
   "id": "9074d4cb",
   "metadata": {},
   "source": [
    "## 1.从numpy数组创建："
   ]
  },
  {
   "cell_type": "code",
   "execution_count": 3,
   "id": "a79ac63d",
   "metadata": {},
   "outputs": [],
   "source": [
    "# 创建一个 NumPy 数组  \n",
    "a = np.array([2,3.3])"
   ]
  },
  {
   "cell_type": "code",
   "execution_count": 4,
   "id": "5ff0bc07",
   "metadata": {},
   "outputs": [
    {
     "data": {
      "text/plain": [
       "tensor([2.0000, 3.3000], dtype=torch.float64)"
      ]
     },
     "execution_count": 4,
     "metadata": {},
     "output_type": "execute_result"
    }
   ],
   "source": [
    "# 转换为 Tensor\n",
    "torch.from_numpy(a)"
   ]
  },
  {
   "cell_type": "code",
   "execution_count": null,
   "id": "0f861e8d",
   "metadata": {},
   "outputs": [],
   "source": []
  },
  {
   "cell_type": "code",
   "execution_count": 5,
   "id": "c1bf80bc",
   "metadata": {},
   "outputs": [],
   "source": [
    "# 创建一个 NumPy 数组  \n",
    "b = np.array([[1,2,3,4],\n",
    "              [5,6,7,8]])"
   ]
  },
  {
   "cell_type": "code",
   "execution_count": 6,
   "id": "c622b460",
   "metadata": {},
   "outputs": [
    {
     "data": {
      "text/plain": [
       "tensor([[1, 2, 3, 4],\n",
       "        [5, 6, 7, 8]], dtype=torch.int32)"
      ]
     },
     "execution_count": 6,
     "metadata": {},
     "output_type": "execute_result"
    }
   ],
   "source": [
    "# 转换为 Tensor\n",
    "torch.from_numpy(b)"
   ]
  },
  {
   "cell_type": "code",
   "execution_count": null,
   "id": "55ae4b3e",
   "metadata": {},
   "outputs": [],
   "source": []
  },
  {
   "cell_type": "markdown",
   "id": "829d8116",
   "metadata": {},
   "source": [
    "## 2.从python的list创建："
   ]
  },
  {
   "cell_type": "markdown",
   "id": "51c1c8c9",
   "metadata": {},
   "source": [
    "### 1.1 torch.tensor()："
   ]
  },
  {
   "cell_type": "code",
   "execution_count": 7,
   "id": "445eca86",
   "metadata": {},
   "outputs": [
    {
     "data": {
      "text/plain": [
       "tensor([2, 3])"
      ]
     },
     "execution_count": 7,
     "metadata": {},
     "output_type": "execute_result"
    }
   ],
   "source": [
    "# 会尝试推断数据的类型\n",
    "torch.tensor([2,3])"
   ]
  },
  {
   "cell_type": "code",
   "execution_count": 8,
   "id": "2a6b0cae",
   "metadata": {},
   "outputs": [
    {
     "data": {
      "text/plain": [
       "'torch.LongTensor'"
      ]
     },
     "execution_count": 8,
     "metadata": {},
     "output_type": "execute_result"
    }
   ],
   "source": [
    "torch.tensor([2,3]).type()"
   ]
  },
  {
   "cell_type": "code",
   "execution_count": 9,
   "id": "84e3b213",
   "metadata": {},
   "outputs": [
    {
     "data": {
      "text/plain": [
       "tensor([[2.0000, 3.3000],\n",
       "        [5.0000, 6.6000]])"
      ]
     },
     "execution_count": 9,
     "metadata": {},
     "output_type": "execute_result"
    }
   ],
   "source": [
    "torch.tensor([[2,3.3],[5,6.6]])"
   ]
  },
  {
   "cell_type": "code",
   "execution_count": 10,
   "id": "6d779e06",
   "metadata": {},
   "outputs": [
    {
     "data": {
      "text/plain": [
       "'torch.FloatTensor'"
      ]
     },
     "execution_count": 10,
     "metadata": {},
     "output_type": "execute_result"
    }
   ],
   "source": [
    "torch.tensor([[2,3.3],[5,6.6]]).type()"
   ]
  },
  {
   "cell_type": "code",
   "execution_count": 11,
   "id": "84add9c8",
   "metadata": {},
   "outputs": [
    {
     "data": {
      "text/plain": [
       "tensor([2.0000, 3.3000], dtype=torch.float64)"
      ]
     },
     "execution_count": 11,
     "metadata": {},
     "output_type": "execute_result"
    }
   ],
   "source": [
    "# 输入数据也可以是ndarray\n",
    "torch.tensor(np.array([2,3.3]))"
   ]
  },
  {
   "cell_type": "code",
   "execution_count": 12,
   "id": "7e73881b",
   "metadata": {},
   "outputs": [
    {
     "data": {
      "text/plain": [
       "'torch.DoubleTensor'"
      ]
     },
     "execution_count": 12,
     "metadata": {},
     "output_type": "execute_result"
    }
   ],
   "source": [
    "torch.tensor(np.array([2,3.3])).type()"
   ]
  },
  {
   "cell_type": "markdown",
   "id": "a7278c04",
   "metadata": {},
   "source": [
    "### 1.2 torch.Tensor()："
   ]
  },
  {
   "cell_type": "code",
   "execution_count": 13,
   "id": "92d817e3",
   "metadata": {},
   "outputs": [
    {
     "data": {
      "text/plain": [
       "tensor([2., 3.])"
      ]
     },
     "execution_count": 13,
     "metadata": {},
     "output_type": "execute_result"
    }
   ],
   "source": [
    "# 默认数据类型为FloatTensor\n",
    "torch.Tensor([2,3])"
   ]
  },
  {
   "cell_type": "code",
   "execution_count": 14,
   "id": "f23a5256",
   "metadata": {},
   "outputs": [
    {
     "data": {
      "text/plain": [
       "'torch.FloatTensor'"
      ]
     },
     "execution_count": 14,
     "metadata": {},
     "output_type": "execute_result"
    }
   ],
   "source": [
    "torch.Tensor([2,3]).type()"
   ]
  },
  {
   "cell_type": "code",
   "execution_count": 15,
   "id": "a54b225c",
   "metadata": {},
   "outputs": [
    {
     "data": {
      "text/plain": [
       "tensor([[2.0000, 3.3000],\n",
       "        [5.0000, 6.6000]])"
      ]
     },
     "execution_count": 15,
     "metadata": {},
     "output_type": "execute_result"
    }
   ],
   "source": [
    "torch.Tensor([[2,3.3],[5,6.6]])"
   ]
  },
  {
   "cell_type": "code",
   "execution_count": 16,
   "id": "73b911b1",
   "metadata": {},
   "outputs": [
    {
     "data": {
      "text/plain": [
       "'torch.FloatTensor'"
      ]
     },
     "execution_count": 16,
     "metadata": {},
     "output_type": "execute_result"
    }
   ],
   "source": [
    "torch.Tensor([[2,3.3],[5,6.6]]).type()"
   ]
  },
  {
   "cell_type": "code",
   "execution_count": 17,
   "id": "2e4e814a",
   "metadata": {},
   "outputs": [
    {
     "data": {
      "text/plain": [
       "tensor([2.0000, 3.3000])"
      ]
     },
     "execution_count": 17,
     "metadata": {},
     "output_type": "execute_result"
    }
   ],
   "source": [
    "# 输入数据也可以是ndarray\n",
    "torch.Tensor(np.array([2,3.3]))"
   ]
  },
  {
   "cell_type": "code",
   "execution_count": 18,
   "id": "79e686a5",
   "metadata": {},
   "outputs": [
    {
     "data": {
      "text/plain": [
       "'torch.FloatTensor'"
      ]
     },
     "execution_count": 18,
     "metadata": {},
     "output_type": "execute_result"
    }
   ],
   "source": [
    "torch.Tensor(np.array([2,3.3])).type()"
   ]
  },
  {
   "cell_type": "markdown",
   "id": "bec01aef",
   "metadata": {},
   "source": [
    "## 3.创建未初始化的Tensor："
   ]
  },
  {
   "cell_type": "code",
   "execution_count": 19,
   "id": "7ec87757",
   "metadata": {},
   "outputs": [
    {
     "data": {
      "text/plain": [
       "tensor([[3.3975e+21, 1.6517e-04, 2.1763e-04],\n",
       "        [2.1277e+23, 4.1202e-11, 4.2330e+21]])"
      ]
     },
     "execution_count": 19,
     "metadata": {},
     "output_type": "execute_result"
    }
   ],
   "source": [
    "# empty()方法接收的是shape\n",
    "torch.empty(2,3)"
   ]
  },
  {
   "cell_type": "code",
   "execution_count": 20,
   "id": "9aa65f2d",
   "metadata": {},
   "outputs": [
    {
     "data": {
      "text/plain": [
       "tensor([[0.0000e+00, 0.0000e+00, 0.0000e+00],\n",
       "        [0.0000e+00, 0.0000e+00, 7.9874e-44]])"
      ]
     },
     "execution_count": 20,
     "metadata": {},
     "output_type": "execute_result"
    }
   ],
   "source": [
    "# Tensor()方法接收的也是shape\n",
    "torch.Tensor(2,3)"
   ]
  },
  {
   "cell_type": "code",
   "execution_count": null,
   "id": "006a4d35",
   "metadata": {},
   "outputs": [],
   "source": []
  },
  {
   "cell_type": "markdown",
   "id": "08971984",
   "metadata": {},
   "source": [
    "## 4.将tensor赋值为同一个元素："
   ]
  },
  {
   "cell_type": "code",
   "execution_count": 21,
   "id": "cb62cf92",
   "metadata": {},
   "outputs": [
    {
     "data": {
      "text/plain": [
       "tensor([[7, 7, 7],\n",
       "        [7, 7, 7]])"
      ]
     },
     "execution_count": 21,
     "metadata": {},
     "output_type": "execute_result"
    }
   ],
   "source": [
    "# 创建一个形状为 (2, 3) 的 tensor，并填充值 7 \n",
    "torch.full([2,3],7)"
   ]
  },
  {
   "cell_type": "code",
   "execution_count": 22,
   "id": "dd19d208",
   "metadata": {},
   "outputs": [
    {
     "data": {
      "text/plain": [
       "tensor(7)"
      ]
     },
     "execution_count": 22,
     "metadata": {},
     "output_type": "execute_result"
    }
   ],
   "source": [
    "torch.full([],7)"
   ]
  },
  {
   "cell_type": "code",
   "execution_count": 23,
   "id": "a4122e0c",
   "metadata": {},
   "outputs": [
    {
     "data": {
      "text/plain": [
       "tensor([7])"
      ]
     },
     "execution_count": 23,
     "metadata": {},
     "output_type": "execute_result"
    }
   ],
   "source": [
    "torch.full([1],7)"
   ]
  },
  {
   "cell_type": "code",
   "execution_count": null,
   "id": "5f4e2393",
   "metadata": {},
   "outputs": [],
   "source": []
  },
  {
   "cell_type": "markdown",
   "id": "010d9b2a",
   "metadata": {},
   "source": [
    "## 5.随机生成："
   ]
  },
  {
   "cell_type": "code",
   "execution_count": 24,
   "id": "77350559",
   "metadata": {},
   "outputs": [
    {
     "data": {
      "text/plain": [
       "tensor([[0.0575, 0.5006, 0.9726],\n",
       "        [0.9132, 0.9016, 0.5111],\n",
       "        [0.8967, 0.3880, 0.0515]])"
      ]
     },
     "execution_count": 24,
     "metadata": {},
     "output_type": "execute_result"
    }
   ],
   "source": [
    "# .rand()方法随机的使用[0,1)的均值分布进行随机生成\n",
    "torch.rand(3,3)"
   ]
  },
  {
   "cell_type": "code",
   "execution_count": 25,
   "id": "7719a2e5",
   "metadata": {},
   "outputs": [
    {
     "data": {
      "text/plain": [
       "tensor([[0.0312, 0.3102, 0.8281],\n",
       "        [0.4740, 0.4782, 0.0628],\n",
       "        [0.3599, 0.5479, 0.4212]])"
      ]
     },
     "execution_count": 25,
     "metadata": {},
     "output_type": "execute_result"
    }
   ],
   "source": [
    "# .rand_like()方法接收的是一个tensor，它是将tensor的shape读出来之后在未给rand()\n",
    "a = torch.rand(3,3)\n",
    "torch.rand_like(a)"
   ]
  },
  {
   "cell_type": "code",
   "execution_count": 26,
   "id": "00f6aa84",
   "metadata": {},
   "outputs": [
    {
     "data": {
      "text/plain": [
       "tensor([[2, 9, 4],\n",
       "        [2, 1, 2],\n",
       "        [3, 3, 5]])"
      ]
     },
     "execution_count": 26,
     "metadata": {},
     "output_type": "execute_result"
    }
   ],
   "source": [
    "# .randint(min,max,shape)方法使用自定义的数据空间，其中取值范围为[min,max）,shape接收的是一个列表\n",
    "torch.randint(1,10,[3,3])"
   ]
  },
  {
   "cell_type": "code",
   "execution_count": 27,
   "id": "46802fee",
   "metadata": {},
   "outputs": [
    {
     "data": {
      "text/plain": [
       "tensor([[-0.1111, -1.6330, -0.7691],\n",
       "        [ 0.6402,  2.0426,  1.1718],\n",
       "        [-1.0552,  0.5367, -0.2874]])"
      ]
     },
     "execution_count": 27,
     "metadata": {},
     "output_type": "execute_result"
    }
   ],
   "source": [
    "# .randn()为N(0,1)，即均值为0，方差为1\n",
    "torch.randn(3,3)"
   ]
  },
  {
   "cell_type": "code",
   "execution_count": 28,
   "id": "b17814a6",
   "metadata": {},
   "outputs": [
    {
     "data": {
      "text/plain": [
       "tensor([ 2.0074, -0.4380, -0.4660,  0.5503,  0.0223, -0.4709,  0.0156,  0.3456,\n",
       "         0.4640, -0.0428])"
      ]
     },
     "execution_count": 28,
     "metadata": {},
     "output_type": "execute_result"
    }
   ],
   "source": [
    "# .normal(u,std)方法可以自定义取值和方差，但是使用起来不是很方便\n",
    "torch.normal(mean=torch.full([10],0.),std=torch.arange(1,0,-0.1))"
   ]
  },
  {
   "cell_type": "code",
   "execution_count": null,
   "id": "a9ac6639",
   "metadata": {},
   "outputs": [],
   "source": []
  },
  {
   "cell_type": "markdown",
   "id": "c85ff366",
   "metadata": {},
   "source": [
    "## 6.序列生成："
   ]
  },
  {
   "cell_type": "code",
   "execution_count": 29,
   "id": "3d1519da",
   "metadata": {},
   "outputs": [
    {
     "data": {
      "text/plain": [
       "tensor([0, 1, 2, 3, 4, 5, 6, 7, 8, 9])"
      ]
     },
     "execution_count": 29,
     "metadata": {},
     "output_type": "execute_result"
    }
   ],
   "source": [
    "# 创建一个从0到10（不包含10）的等差序列，步长为1 \n",
    "torch.arange(0,10)"
   ]
  },
  {
   "cell_type": "code",
   "execution_count": 30,
   "id": "c4ca8e69",
   "metadata": {},
   "outputs": [
    {
     "data": {
      "text/plain": [
       "tensor([0, 2, 4, 6, 8])"
      ]
     },
     "execution_count": 30,
     "metadata": {},
     "output_type": "execute_result"
    }
   ],
   "source": [
    "# 创建一个从0到10（不包含10）的等差序列，步长为2\n",
    "torch.arange(0,10,2)"
   ]
  },
  {
   "cell_type": "code",
   "execution_count": 31,
   "id": "b3f4704b",
   "metadata": {},
   "outputs": [
    {
     "data": {
      "text/plain": [
       "tensor([ 0.,  1.,  2.,  3.,  4.,  5.,  6.,  7.,  8.,  9., 10.])"
      ]
     },
     "execution_count": 31,
     "metadata": {},
     "output_type": "execute_result"
    }
   ],
   "source": [
    "# .range()方法会被弃用，使用.arange()方法替代\n",
    "torch.range(0,10)"
   ]
  },
  {
   "cell_type": "code",
   "execution_count": null,
   "id": "692e9007",
   "metadata": {},
   "outputs": [],
   "source": []
  },
  {
   "cell_type": "code",
   "execution_count": 32,
   "id": "fb01a44a",
   "metadata": {},
   "outputs": [
    {
     "data": {
      "text/plain": [
       "tensor([ 0.0000,  2.5000,  5.0000,  7.5000, 10.0000])"
      ]
     },
     "execution_count": 32,
     "metadata": {},
     "output_type": "execute_result"
    }
   ],
   "source": [
    "# 创建一个从0到10的等间隔数值序列，包含5个元素 \n",
    "torch.linspace(0,10,steps=5)"
   ]
  },
  {
   "cell_type": "code",
   "execution_count": 33,
   "id": "a353556e",
   "metadata": {},
   "outputs": [
    {
     "data": {
      "text/plain": [
       "tensor([ 0.0000,  1.1111,  2.2222,  3.3333,  4.4444,  5.5556,  6.6667,  7.7778,\n",
       "         8.8889, 10.0000])"
      ]
     },
     "execution_count": 33,
     "metadata": {},
     "output_type": "execute_result"
    }
   ],
   "source": [
    "# 创建一个从0到10的等间隔数值序列，包含10个元素 \n",
    "torch.linspace(0,10,steps=10)"
   ]
  },
  {
   "cell_type": "code",
   "execution_count": 34,
   "id": "d81c5d7b",
   "metadata": {},
   "outputs": [
    {
     "data": {
      "text/plain": [
       "tensor([ 1.0000,  2.1544,  4.6416, 10.0000])"
      ]
     },
     "execution_count": 34,
     "metadata": {},
     "output_type": "execute_result"
    }
   ],
   "source": [
    "# 创建一个从10^0到10^1的均匀间隔数字序列，包含4个元素\n",
    "torch.logspace(0,1,steps=4)"
   ]
  },
  {
   "cell_type": "code",
   "execution_count": 35,
   "id": "26172f07",
   "metadata": {},
   "outputs": [
    {
     "data": {
      "text/plain": [
       "tensor([1.0000, 1.2599, 1.5874, 2.0000])"
      ]
     },
     "execution_count": 35,
     "metadata": {},
     "output_type": "execute_result"
    }
   ],
   "source": [
    "# 创建一个从2^0到2^3的序列，包含4个元素\n",
    "torch.logspace(0,1,steps=4,base=2)"
   ]
  },
  {
   "cell_type": "code",
   "execution_count": null,
   "id": "16da69bf",
   "metadata": {},
   "outputs": [],
   "source": []
  },
  {
   "cell_type": "markdown",
   "id": "f40900cc",
   "metadata": {},
   "source": [
    "## 7.全0、全1、单位矩阵："
   ]
  },
  {
   "cell_type": "code",
   "execution_count": 36,
   "id": "47bef0ed",
   "metadata": {},
   "outputs": [
    {
     "data": {
      "text/plain": [
       "tensor([[0., 0., 0.],\n",
       "        [0., 0., 0.],\n",
       "        [0., 0., 0.]])"
      ]
     },
     "execution_count": 36,
     "metadata": {},
     "output_type": "execute_result"
    }
   ],
   "source": [
    "# 创建一个3x3的全零张量 \n",
    "torch.zeros(3,3)"
   ]
  },
  {
   "cell_type": "code",
   "execution_count": null,
   "id": "a657cacd",
   "metadata": {},
   "outputs": [],
   "source": []
  },
  {
   "cell_type": "code",
   "execution_count": 37,
   "id": "c2f001b9",
   "metadata": {},
   "outputs": [
    {
     "data": {
      "text/plain": [
       "tensor([[1., 1., 1.],\n",
       "        [1., 1., 1.],\n",
       "        [1., 1., 1.]])"
      ]
     },
     "execution_count": 37,
     "metadata": {},
     "output_type": "execute_result"
    }
   ],
   "source": [
    "# 创建一个3x2的全为1的张量 \n",
    "torch.ones(3,3)"
   ]
  },
  {
   "cell_type": "code",
   "execution_count": null,
   "id": "fd874d7a",
   "metadata": {},
   "outputs": [],
   "source": []
  },
  {
   "cell_type": "code",
   "execution_count": 38,
   "id": "ecde294d",
   "metadata": {},
   "outputs": [
    {
     "data": {
      "text/plain": [
       "tensor([[1., 1., 1.],\n",
       "        [1., 1., 1.],\n",
       "        [1., 1., 1.]])"
      ]
     },
     "execution_count": 38,
     "metadata": {},
     "output_type": "execute_result"
    }
   ],
   "source": [
    "# 创建一个与a形状相同的全一张量\n",
    "a = torch.rand(3,3)\n",
    "torch.ones_like(a)"
   ]
  },
  {
   "cell_type": "code",
   "execution_count": null,
   "id": "418f4404",
   "metadata": {},
   "outputs": [],
   "source": []
  },
  {
   "cell_type": "code",
   "execution_count": 39,
   "id": "9c664645",
   "metadata": {},
   "outputs": [
    {
     "data": {
      "text/plain": [
       "tensor([[1., 0., 0.],\n",
       "        [0., 1., 0.],\n",
       "        [0., 0., 1.]])"
      ]
     },
     "execution_count": 39,
     "metadata": {},
     "output_type": "execute_result"
    }
   ],
   "source": [
    "# 创建一个3x3的单位矩阵\n",
    "torch.eye(3,3)"
   ]
  },
  {
   "cell_type": "code",
   "execution_count": 40,
   "id": "909a2fcd",
   "metadata": {},
   "outputs": [
    {
     "data": {
      "text/plain": [
       "tensor([[1., 0., 0., 0.],\n",
       "        [0., 1., 0., 0.],\n",
       "        [0., 0., 1., 0.]])"
      ]
     },
     "execution_count": 40,
     "metadata": {},
     "output_type": "execute_result"
    }
   ],
   "source": [
    "# eye()方法当给定的shape不对应时，多余的会以0填充\n",
    "torch.eye(3,4)"
   ]
  },
  {
   "cell_type": "code",
   "execution_count": 41,
   "id": "c17d78a5",
   "metadata": {},
   "outputs": [
    {
     "data": {
      "text/plain": [
       "tensor([[1., 0., 0., 0.],\n",
       "        [0., 1., 0., 0.],\n",
       "        [0., 0., 1., 0.],\n",
       "        [0., 0., 0., 1.]])"
      ]
     },
     "execution_count": 41,
     "metadata": {},
     "output_type": "execute_result"
    }
   ],
   "source": [
    "# eye()方法只能接受一个或两个数据，也就是说不能生产更高维的数据\n",
    "torch.eye(4)"
   ]
  },
  {
   "cell_type": "code",
   "execution_count": null,
   "id": "43dc8f0c",
   "metadata": {},
   "outputs": [],
   "source": []
  },
  {
   "cell_type": "markdown",
   "id": "b4bbf10c",
   "metadata": {},
   "source": [
    "## 8.随机排列："
   ]
  },
  {
   "cell_type": "code",
   "execution_count": 42,
   "id": "c1e098f8",
   "metadata": {},
   "outputs": [
    {
     "data": {
      "text/plain": [
       "tensor([2, 8, 4, 1, 7, 6, 9, 5, 3, 0])"
      ]
     },
     "execution_count": 42,
     "metadata": {},
     "output_type": "execute_result"
    }
   ],
   "source": [
    "# 返回一个0到9的10个整数的随机排列张量\n",
    "torch.randperm(10)"
   ]
  },
  {
   "cell_type": "code",
   "execution_count": null,
   "id": "d3fa9244",
   "metadata": {},
   "outputs": [],
   "source": []
  },
  {
   "cell_type": "code",
   "execution_count": null,
   "id": "85b17aea",
   "metadata": {},
   "outputs": [],
   "source": []
  },
  {
   "cell_type": "code",
   "execution_count": null,
   "id": "dac7cc41",
   "metadata": {},
   "outputs": [],
   "source": []
  },
  {
   "cell_type": "code",
   "execution_count": null,
   "id": "563b2076",
   "metadata": {},
   "outputs": [],
   "source": []
  },
  {
   "cell_type": "code",
   "execution_count": null,
   "id": "b955b32b",
   "metadata": {},
   "outputs": [],
   "source": []
  },
  {
   "cell_type": "code",
   "execution_count": null,
   "id": "d85c58e3",
   "metadata": {},
   "outputs": [],
   "source": []
  },
  {
   "cell_type": "code",
   "execution_count": null,
   "id": "0dbc039e",
   "metadata": {},
   "outputs": [],
   "source": []
  },
  {
   "cell_type": "code",
   "execution_count": null,
   "id": "abe5a62c",
   "metadata": {},
   "outputs": [],
   "source": []
  },
  {
   "cell_type": "code",
   "execution_count": null,
   "id": "6bdc9ed8",
   "metadata": {},
   "outputs": [],
   "source": []
  },
  {
   "cell_type": "code",
   "execution_count": null,
   "id": "f204f73e",
   "metadata": {},
   "outputs": [],
   "source": []
  },
  {
   "cell_type": "code",
   "execution_count": null,
   "id": "2fa59390",
   "metadata": {},
   "outputs": [],
   "source": []
  },
  {
   "cell_type": "code",
   "execution_count": null,
   "id": "dad90e56",
   "metadata": {},
   "outputs": [],
   "source": []
  }
 ],
 "metadata": {
  "kernelspec": {
   "display_name": "Python 3 (ipykernel)",
   "language": "python",
   "name": "python3"
  },
  "language_info": {
   "codemirror_mode": {
    "name": "ipython",
    "version": 3
   },
   "file_extension": ".py",
   "mimetype": "text/x-python",
   "name": "python",
   "nbconvert_exporter": "python",
   "pygments_lexer": "ipython3",
   "version": "3.9.16"
  }
 },
 "nbformat": 4,
 "nbformat_minor": 5
}
