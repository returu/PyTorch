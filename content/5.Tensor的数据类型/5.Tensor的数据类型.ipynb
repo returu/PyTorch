{
 "cells": [
  {
   "cell_type": "code",
   "execution_count": 1,
   "id": "6cc40916",
   "metadata": {},
   "outputs": [],
   "source": [
    "import torch"
   ]
  },
  {
   "cell_type": "markdown",
   "id": "a49b0c6c",
   "metadata": {},
   "source": [
    "## 1.Tensor的数据类型："
   ]
  },
  {
   "cell_type": "markdown",
   "id": "71de7a4f",
   "metadata": {},
   "source": [
    "### torch.set_default_tensor_type()"
   ]
  },
  {
   "cell_type": "code",
   "execution_count": 2,
   "id": "1dffd8ba",
   "metadata": {
    "scrolled": true
   },
   "outputs": [
    {
     "data": {
      "text/plain": [
       "tensor([[0.0348, 0.9351, 0.7575],\n",
       "        [0.7050, 0.1851, 0.7556]])"
      ]
     },
     "execution_count": 2,
     "metadata": {},
     "output_type": "execute_result"
    }
   ],
   "source": [
    "tensor = torch.rand(2,3)\n",
    "tensor"
   ]
  },
  {
   "cell_type": "code",
   "execution_count": 3,
   "id": "8ca8f03a",
   "metadata": {},
   "outputs": [
    {
     "data": {
      "text/plain": [
       "torch.float32"
      ]
     },
     "execution_count": 3,
     "metadata": {},
     "output_type": "execute_result"
    }
   ],
   "source": [
    "tensor.dtype"
   ]
  },
  {
   "cell_type": "code",
   "execution_count": 4,
   "id": "8750b697",
   "metadata": {},
   "outputs": [],
   "source": [
    "# 将默认数据类型设置为float64\n",
    "torch.set_default_tensor_type('torch.DoubleTensor')"
   ]
  },
  {
   "cell_type": "code",
   "execution_count": 5,
   "id": "81be2b60",
   "metadata": {},
   "outputs": [
    {
     "data": {
      "text/plain": [
       "tensor([[0.1881, 0.0584, 0.2432],\n",
       "        [0.0635, 0.9154, 0.6279]])"
      ]
     },
     "execution_count": 5,
     "metadata": {},
     "output_type": "execute_result"
    }
   ],
   "source": [
    "tensor_new = torch.rand(2,3)\n",
    "tensor_new"
   ]
  },
  {
   "cell_type": "code",
   "execution_count": 6,
   "id": "95f17232",
   "metadata": {},
   "outputs": [
    {
     "data": {
      "text/plain": [
       "torch.float64"
      ]
     },
     "execution_count": 6,
     "metadata": {},
     "output_type": "execute_result"
    }
   ],
   "source": [
    "tensor_new.dtype"
   ]
  },
  {
   "cell_type": "code",
   "execution_count": 7,
   "id": "17d3bb95",
   "metadata": {},
   "outputs": [],
   "source": [
    "# 恢复默认的数据类型\n",
    "torch.set_default_tensor_type('torch.FloatTensor')"
   ]
  },
  {
   "cell_type": "markdown",
   "id": "9074d4cb",
   "metadata": {},
   "source": [
    "## 2.指定和更改Tensor的数据类型："
   ]
  },
  {
   "cell_type": "markdown",
   "id": "fef3e1d1",
   "metadata": {},
   "source": [
    "### 2.1 创建时指定数据类型："
   ]
  },
  {
   "cell_type": "code",
   "execution_count": 8,
   "id": "d85c58e3",
   "metadata": {},
   "outputs": [
    {
     "data": {
      "text/plain": [
       "torch.float32"
      ]
     },
     "execution_count": 8,
     "metadata": {},
     "output_type": "execute_result"
    }
   ],
   "source": [
    "# 创建一个float32类型的Tensor  \n",
    "float_tensor = torch.tensor([1.0, 2.0, 3.0], dtype=torch.float32)\n",
    "float_tensor.dtype"
   ]
  },
  {
   "cell_type": "code",
   "execution_count": null,
   "id": "e9e74801",
   "metadata": {},
   "outputs": [],
   "source": []
  },
  {
   "cell_type": "code",
   "execution_count": 9,
   "id": "1e0f6ce8",
   "metadata": {},
   "outputs": [
    {
     "data": {
      "text/plain": [
       "torch.int64"
      ]
     },
     "execution_count": 9,
     "metadata": {},
     "output_type": "execute_result"
    }
   ],
   "source": [
    "# 创建一个int64类型的Tensor  \n",
    "int64_tensor = torch.tensor([1, 2, 3], dtype=torch.int64)\n",
    "int64_tensor.dtype"
   ]
  },
  {
   "cell_type": "code",
   "execution_count": null,
   "id": "3cbe9d74",
   "metadata": {},
   "outputs": [],
   "source": []
  },
  {
   "cell_type": "code",
   "execution_count": 10,
   "id": "8cd39d2a",
   "metadata": {},
   "outputs": [
    {
     "data": {
      "text/plain": [
       "'torch.FloatTensor'"
      ]
     },
     "execution_count": 10,
     "metadata": {},
     "output_type": "execute_result"
    }
   ],
   "source": [
    "# 使用.type()方法可以返回一个str\n",
    "float_tensor.type()"
   ]
  },
  {
   "cell_type": "code",
   "execution_count": 11,
   "id": "d129be0f",
   "metadata": {},
   "outputs": [
    {
     "data": {
      "text/plain": [
       "True"
      ]
     },
     "execution_count": 11,
     "metadata": {},
     "output_type": "execute_result"
    }
   ],
   "source": [
    "# 使用isinstance()方法进行数据类型检验\n",
    "isinstance(int64_tensor , torch.LongTensor)"
   ]
  },
  {
   "cell_type": "code",
   "execution_count": null,
   "id": "b5539e3c",
   "metadata": {},
   "outputs": [],
   "source": []
  },
  {
   "cell_type": "markdown",
   "id": "7063372e",
   "metadata": {},
   "source": [
    "### 2.2 更改现有Tensor的数据类型："
   ]
  },
  {
   "cell_type": "code",
   "execution_count": 12,
   "id": "791e02ac",
   "metadata": {},
   "outputs": [
    {
     "data": {
      "text/plain": [
       "torch.float64"
      ]
     },
     "execution_count": 12,
     "metadata": {},
     "output_type": "execute_result"
    }
   ],
   "source": [
    "# 将float32转换为float64类型  \n",
    "double_tensor = float_tensor.double()\n",
    "double_tensor.dtype"
   ]
  },
  {
   "cell_type": "code",
   "execution_count": 13,
   "id": "61e60eae",
   "metadata": {},
   "outputs": [
    {
     "data": {
      "text/plain": [
       "torch.int16"
      ]
     },
     "execution_count": 13,
     "metadata": {},
     "output_type": "execute_result"
    }
   ],
   "source": [
    "# 将int64转换为int16类型  \n",
    "int16_tensor = int64_tensor.short()\n",
    "int16_tensor.dtype"
   ]
  },
  {
   "cell_type": "markdown",
   "id": "7cfda0aa",
   "metadata": {},
   "source": [
    "#### to()方法"
   ]
  },
  {
   "cell_type": "code",
   "execution_count": 14,
   "id": "3c390d59",
   "metadata": {},
   "outputs": [
    {
     "data": {
      "text/plain": [
       "torch.float16"
      ]
     },
     "execution_count": 14,
     "metadata": {},
     "output_type": "execute_result"
    }
   ],
   "source": [
    "# 将float32转换为float16类型  \n",
    "half_tensor = float_tensor.to(torch.half)\n",
    "half_tensor.dtype"
   ]
  },
  {
   "cell_type": "markdown",
   "id": "0653f449",
   "metadata": {},
   "source": [
    "#### type()方法"
   ]
  },
  {
   "cell_type": "code",
   "execution_count": 15,
   "id": "34284699",
   "metadata": {},
   "outputs": [
    {
     "data": {
      "text/plain": [
       "torch.int32"
      ]
     },
     "execution_count": 15,
     "metadata": {},
     "output_type": "execute_result"
    }
   ],
   "source": [
    "# 将int64转换为int32类型  \n",
    "int32_tensor = int64_tensor.type(torch.int)\n",
    "int32_tensor.dtype"
   ]
  },
  {
   "cell_type": "code",
   "execution_count": null,
   "id": "572658c0",
   "metadata": {},
   "outputs": [],
   "source": []
  },
  {
   "cell_type": "markdown",
   "id": "53a55956",
   "metadata": {},
   "source": [
    "#### 在操作中输入多种数据类型时，输入会自动向较大类型转换"
   ]
  },
  {
   "cell_type": "code",
   "execution_count": 16,
   "id": "c275d9d5",
   "metadata": {},
   "outputs": [
    {
     "data": {
      "text/plain": [
       "tensor([0.3345, 0.4079, 0.4873, 0.7552, 0.7650], dtype=torch.float64)"
      ]
     },
     "execution_count": 16,
     "metadata": {},
     "output_type": "execute_result"
    }
   ],
   "source": [
    "tensor_1 = torch.rand(5 , dtype=torch.float64)\n",
    "tensor_1"
   ]
  },
  {
   "cell_type": "code",
   "execution_count": 17,
   "id": "6c027e3f",
   "metadata": {},
   "outputs": [
    {
     "data": {
      "text/plain": [
       "tensor([0, 0, 0, 0, 0], dtype=torch.int16)"
      ]
     },
     "execution_count": 17,
     "metadata": {},
     "output_type": "execute_result"
    }
   ],
   "source": [
    "tensor_2 = tensor_1.to(dtype=torch.int16)\n",
    "tensor_2"
   ]
  },
  {
   "cell_type": "code",
   "execution_count": 18,
   "id": "6bff53e8",
   "metadata": {},
   "outputs": [
    {
     "data": {
      "text/plain": [
       "tensor([0.3345, 0.4079, 0.4873, 0.7552, 0.7650], dtype=torch.float64)"
      ]
     },
     "execution_count": 18,
     "metadata": {},
     "output_type": "execute_result"
    }
   ],
   "source": [
    "tensor_3 = tensor_1 + tensor_2\n",
    "tensor_3"
   ]
  },
  {
   "cell_type": "code",
   "execution_count": 19,
   "id": "fd629e1b",
   "metadata": {},
   "outputs": [
    {
     "data": {
      "text/plain": [
       "torch.float64"
      ]
     },
     "execution_count": 19,
     "metadata": {},
     "output_type": "execute_result"
    }
   ],
   "source": [
    "tensor_3.dtype"
   ]
  },
  {
   "cell_type": "code",
   "execution_count": null,
   "id": "5d02fbec",
   "metadata": {},
   "outputs": [],
   "source": []
  },
  {
   "cell_type": "code",
   "execution_count": null,
   "id": "0a712bd7",
   "metadata": {},
   "outputs": [],
   "source": []
  },
  {
   "cell_type": "code",
   "execution_count": null,
   "id": "2e42008e",
   "metadata": {},
   "outputs": [],
   "source": []
  },
  {
   "cell_type": "code",
   "execution_count": null,
   "id": "57d2e63a",
   "metadata": {},
   "outputs": [],
   "source": []
  },
  {
   "cell_type": "code",
   "execution_count": null,
   "id": "00481ae2",
   "metadata": {},
   "outputs": [],
   "source": []
  },
  {
   "cell_type": "code",
   "execution_count": null,
   "id": "d78177ef",
   "metadata": {},
   "outputs": [],
   "source": []
  },
  {
   "cell_type": "code",
   "execution_count": null,
   "id": "aec9326a",
   "metadata": {},
   "outputs": [],
   "source": []
  },
  {
   "cell_type": "code",
   "execution_count": null,
   "id": "9f365e63",
   "metadata": {},
   "outputs": [],
   "source": []
  }
 ],
 "metadata": {
  "kernelspec": {
   "display_name": "Python 3 (ipykernel)",
   "language": "python",
   "name": "python3"
  },
  "language_info": {
   "codemirror_mode": {
    "name": "ipython",
    "version": 3
   },
   "file_extension": ".py",
   "mimetype": "text/x-python",
   "name": "python",
   "nbconvert_exporter": "python",
   "pygments_lexer": "ipython3",
   "version": "3.9.16"
  }
 },
 "nbformat": 4,
 "nbformat_minor": 5
}
