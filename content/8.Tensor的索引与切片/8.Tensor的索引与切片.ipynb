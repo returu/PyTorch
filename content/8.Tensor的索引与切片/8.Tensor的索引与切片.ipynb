{
 "cells": [
  {
   "cell_type": "code",
   "execution_count": 1,
   "id": "6cc40916",
   "metadata": {},
   "outputs": [],
   "source": [
    "import torch"
   ]
  },
  {
   "cell_type": "markdown",
   "id": "829d8116",
   "metadata": {},
   "source": [
    "## 1.索引与切片方法："
   ]
  },
  {
   "cell_type": "markdown",
   "id": "41d77c92",
   "metadata": {},
   "source": [
    "### 1.1 一般索引："
   ]
  },
  {
   "cell_type": "code",
   "execution_count": 2,
   "id": "4cd1af79",
   "metadata": {},
   "outputs": [],
   "source": [
    "a = torch.rand(4,3,28,28)"
   ]
  },
  {
   "cell_type": "code",
   "execution_count": 3,
   "id": "4274ae54",
   "metadata": {},
   "outputs": [
    {
     "data": {
      "text/plain": [
       "tensor([[[0.6412, 0.7649, 0.6520,  ..., 0.6787, 0.8154, 0.0746],\n",
       "         [0.5678, 0.9637, 0.9967,  ..., 0.3281, 0.9379, 0.5122],\n",
       "         [0.4621, 0.7104, 0.3306,  ..., 0.2900, 0.4956, 0.4820],\n",
       "         ...,\n",
       "         [0.2847, 0.5402, 0.6430,  ..., 0.6790, 0.8000, 0.3977],\n",
       "         [0.3529, 0.9373, 0.7722,  ..., 0.0242, 0.6721, 0.5983],\n",
       "         [0.0337, 0.3073, 0.3344,  ..., 0.5249, 0.0822, 0.3789]],\n",
       "\n",
       "        [[0.8477, 0.1752, 0.0516,  ..., 0.3909, 0.0381, 0.3783],\n",
       "         [0.8935, 0.1897, 0.7621,  ..., 0.7082, 0.3384, 0.8146],\n",
       "         [0.6321, 0.6241, 0.4947,  ..., 0.9310, 0.7682, 0.8642],\n",
       "         ...,\n",
       "         [0.9591, 0.0622, 0.0520,  ..., 0.3043, 0.0597, 0.6045],\n",
       "         [0.6917, 0.6232, 0.5866,  ..., 0.9370, 0.0047, 0.9454],\n",
       "         [0.8640, 0.2429, 0.8214,  ..., 0.0614, 0.0395, 0.6852]],\n",
       "\n",
       "        [[0.9697, 0.1449, 0.1239,  ..., 0.4752, 0.7060, 0.9259],\n",
       "         [0.4737, 0.2422, 0.2605,  ..., 0.5286, 0.2266, 0.2649],\n",
       "         [0.2405, 0.6473, 0.9947,  ..., 0.2582, 0.8715, 0.6295],\n",
       "         ...,\n",
       "         [0.8399, 0.6813, 0.6022,  ..., 0.3848, 0.4533, 0.4169],\n",
       "         [0.9142, 0.8355, 0.6983,  ..., 0.9055, 0.7695, 0.6175],\n",
       "         [0.7404, 0.0265, 0.6188,  ..., 0.1852, 0.4570, 0.1318]]])"
      ]
     },
     "execution_count": 3,
     "metadata": {},
     "output_type": "execute_result"
    }
   ],
   "source": [
    "a[0]"
   ]
  },
  {
   "cell_type": "code",
   "execution_count": 4,
   "id": "136a5a3a",
   "metadata": {},
   "outputs": [
    {
     "data": {
      "text/plain": [
       "torch.Size([3, 28, 28])"
      ]
     },
     "execution_count": 4,
     "metadata": {},
     "output_type": "execute_result"
    }
   ],
   "source": [
    "a[0].shape"
   ]
  },
  {
   "cell_type": "code",
   "execution_count": 5,
   "id": "40cbd10a",
   "metadata": {
    "scrolled": true
   },
   "outputs": [
    {
     "data": {
      "text/plain": [
       "tensor([[0.6412, 0.7649, 0.6520, 0.3188, 0.8737, 0.7132, 0.5936, 0.5943, 0.4706,\n",
       "         0.5214, 0.1863, 0.0155, 0.5523, 0.1712, 0.6090, 0.3881, 0.1392, 0.6453,\n",
       "         0.3707, 0.9058, 0.7579, 0.5323, 0.6246, 0.0431, 0.6448, 0.6787, 0.8154,\n",
       "         0.0746],\n",
       "        [0.5678, 0.9637, 0.9967, 0.9159, 0.1179, 0.2607, 0.5565, 0.9291, 0.3648,\n",
       "         0.8886, 0.8571, 0.2662, 0.3373, 0.8637, 0.0100, 0.3069, 0.8793, 0.2380,\n",
       "         0.0458, 0.1191, 0.4861, 0.1081, 0.1966, 0.1138, 0.2788, 0.3281, 0.9379,\n",
       "         0.5122],\n",
       "        [0.4621, 0.7104, 0.3306, 0.0694, 0.3016, 0.9337, 0.6811, 0.5454, 0.5452,\n",
       "         0.8557, 0.6028, 0.1270, 0.3972, 0.4172, 0.5956, 0.9371, 0.3068, 0.2174,\n",
       "         0.8037, 0.3877, 0.3956, 0.3316, 0.2043, 0.9046, 0.1525, 0.2900, 0.4956,\n",
       "         0.4820],\n",
       "        [0.9223, 0.1107, 0.6638, 0.9609, 0.5096, 0.6365, 0.0071, 0.4901, 0.0412,\n",
       "         0.0361, 0.8102, 0.3377, 0.4733, 0.3532, 0.7874, 0.0153, 0.2656, 0.4935,\n",
       "         0.5072, 0.5754, 0.9861, 0.6290, 0.8871, 0.2874, 0.8003, 0.3548, 0.9795,\n",
       "         0.9840],\n",
       "        [0.2348, 0.8787, 0.2605, 0.7615, 0.1756, 0.5267, 0.3288, 0.4363, 0.3969,\n",
       "         0.4950, 0.0518, 0.2846, 0.4794, 0.9758, 0.6699, 0.3883, 0.9631, 0.1121,\n",
       "         0.9080, 0.4153, 0.2883, 0.4400, 0.5623, 0.0176, 0.2644, 0.1623, 0.4027,\n",
       "         0.9175],\n",
       "        [0.8244, 0.8718, 0.4409, 0.7778, 0.1781, 0.3199, 0.3045, 0.4228, 0.7088,\n",
       "         0.4296, 0.7247, 0.4758, 0.1865, 0.9632, 0.0282, 0.4396, 0.1721, 0.4609,\n",
       "         0.8070, 0.6405, 0.0689, 0.9048, 0.4134, 0.8790, 0.0424, 0.6788, 0.1826,\n",
       "         0.4658],\n",
       "        [0.9101, 0.6292, 0.3922, 0.9919, 0.7543, 0.8994, 0.4123, 0.0108, 0.9028,\n",
       "         0.9561, 0.8762, 0.1598, 0.0054, 0.5035, 0.6249, 0.1175, 0.4602, 0.3527,\n",
       "         0.2174, 0.5576, 0.2456, 0.3358, 0.2527, 0.2913, 0.9674, 0.1406, 0.5085,\n",
       "         0.1633],\n",
       "        [0.1121, 0.9946, 0.5187, 0.9371, 0.1642, 0.4934, 0.0769, 0.2150, 0.6823,\n",
       "         0.4350, 0.8474, 0.3416, 0.6943, 0.0776, 0.4390, 0.1046, 0.4543, 0.7565,\n",
       "         0.6733, 0.6658, 0.2719, 0.5588, 0.1642, 0.2680, 0.5378, 0.8383, 0.3403,\n",
       "         0.0266],\n",
       "        [0.0985, 0.9282, 0.6799, 0.9743, 0.7238, 0.7517, 0.9189, 0.2384, 0.7926,\n",
       "         0.6697, 0.4353, 0.6854, 0.8255, 0.7109, 0.7003, 0.6916, 0.4653, 0.5633,\n",
       "         0.8026, 0.9659, 0.3363, 0.1789, 0.3565, 0.3124, 0.7849, 0.9651, 0.9376,\n",
       "         0.7944],\n",
       "        [0.6311, 0.6469, 0.7784, 0.1747, 0.5416, 0.5029, 0.5796, 0.5343, 0.4699,\n",
       "         0.9023, 0.2381, 0.0028, 0.7909, 0.1446, 0.9112, 0.5517, 0.1416, 0.6583,\n",
       "         0.7609, 0.7325, 0.6387, 0.2477, 0.7722, 0.8852, 0.7737, 0.4799, 0.9847,\n",
       "         0.9305],\n",
       "        [0.4843, 0.1068, 0.9030, 0.5238, 0.8512, 0.3414, 0.7279, 0.8392, 0.4904,\n",
       "         0.2340, 0.6681, 0.2731, 0.6770, 0.2539, 0.5553, 0.8256, 0.1901, 0.7351,\n",
       "         0.8769, 0.3220, 0.8591, 0.7152, 0.0623, 0.6423, 0.0346, 0.3143, 0.6767,\n",
       "         0.4648],\n",
       "        [0.3610, 0.7558, 0.1736, 0.7728, 0.4763, 0.3966, 0.8057, 0.9058, 0.7687,\n",
       "         0.0397, 0.7083, 0.3968, 0.0927, 0.6966, 0.5772, 0.2772, 0.2935, 0.6273,\n",
       "         0.2705, 0.5050, 0.7056, 0.9846, 0.9835, 0.0452, 0.1350, 0.4852, 0.0976,\n",
       "         0.3569],\n",
       "        [0.5389, 0.2313, 0.2710, 0.8467, 0.9876, 0.1884, 0.9088, 0.1481, 0.1569,\n",
       "         0.3647, 0.0364, 0.2337, 0.6449, 0.1518, 0.6213, 0.4918, 0.2298, 0.9749,\n",
       "         0.1130, 0.3071, 0.4862, 0.6338, 0.8030, 0.7876, 0.4730, 0.1696, 0.9823,\n",
       "         0.8989],\n",
       "        [0.1187, 0.7645, 0.8863, 0.5994, 0.8185, 0.7940, 0.8224, 0.6457, 0.3583,\n",
       "         0.9917, 0.1167, 0.6863, 0.4839, 0.6564, 0.6811, 0.9146, 0.2741, 0.6882,\n",
       "         0.4021, 0.0675, 0.3899, 0.4618, 0.6570, 0.5894, 0.2112, 0.4696, 0.8757,\n",
       "         0.0824],\n",
       "        [0.7307, 0.6002, 0.5663, 0.2954, 0.4841, 0.6567, 0.1088, 0.8773, 0.1698,\n",
       "         0.0814, 0.2190, 0.1508, 0.0076, 0.4291, 0.6903, 0.0848, 0.2166, 0.5166,\n",
       "         0.9357, 0.1483, 0.1070, 0.1309, 0.9672, 0.0375, 0.6515, 0.4936, 0.4139,\n",
       "         0.2956],\n",
       "        [0.7062, 0.4873, 0.4551, 0.1258, 0.2218, 0.5943, 0.9593, 0.6432, 0.2301,\n",
       "         0.0737, 0.9572, 0.4304, 0.5847, 0.0220, 0.1315, 0.5711, 0.5622, 0.9235,\n",
       "         0.2754, 0.6716, 0.9366, 0.8612, 0.0471, 0.7552, 0.4906, 0.3531, 0.2990,\n",
       "         0.7375],\n",
       "        [0.2343, 0.2808, 0.1337, 0.3571, 0.0444, 0.8655, 0.7758, 0.3468, 0.3685,\n",
       "         0.8418, 0.6626, 0.1491, 0.8243, 0.0465, 0.0161, 0.3246, 0.6853, 0.1346,\n",
       "         0.7431, 0.3219, 0.4160, 0.8442, 0.8871, 0.8885, 0.2450, 0.3765, 0.5511,\n",
       "         0.8340],\n",
       "        [0.4252, 0.4842, 0.5241, 0.8825, 0.8050, 0.2812, 0.0484, 0.6062, 0.6853,\n",
       "         0.1631, 0.4566, 0.8614, 0.7615, 0.8129, 0.8613, 0.4179, 0.2693, 0.4713,\n",
       "         0.5114, 0.5106, 0.0092, 0.2091, 0.6790, 0.9384, 0.9672, 0.9498, 0.5725,\n",
       "         0.0185],\n",
       "        [0.7728, 0.1795, 0.4782, 0.9883, 0.9244, 0.7708, 0.2937, 0.1940, 0.7601,\n",
       "         0.5194, 0.3471, 0.6249, 0.3821, 0.2317, 0.4112, 0.0912, 0.5965, 0.6138,\n",
       "         0.3342, 0.8108, 0.5717, 0.3579, 0.6126, 0.9159, 0.3671, 0.5037, 0.3603,\n",
       "         0.4835],\n",
       "        [0.6707, 0.9955, 0.4246, 0.9235, 0.6159, 0.3929, 0.7227, 0.5303, 0.0873,\n",
       "         0.2165, 0.2021, 0.9638, 0.7554, 0.4935, 0.0083, 0.7541, 0.0466, 0.2244,\n",
       "         0.4028, 0.3088, 0.5686, 0.0588, 0.4255, 0.7762, 0.5500, 0.8945, 0.2618,\n",
       "         0.2481],\n",
       "        [0.2088, 0.6300, 0.8987, 0.2220, 0.4901, 0.7360, 0.0113, 0.4047, 0.7260,\n",
       "         0.1724, 0.1514, 0.4414, 0.7090, 0.3162, 0.0864, 0.0166, 0.7103, 0.7773,\n",
       "         0.6639, 0.7135, 0.9603, 0.9053, 0.5243, 0.4981, 0.7558, 0.0227, 0.6658,\n",
       "         0.5142],\n",
       "        [0.0772, 0.1197, 0.8462, 0.0260, 0.4310, 0.7959, 0.1341, 0.4587, 0.8283,\n",
       "         0.1456, 0.5929, 0.0576, 0.8803, 0.1843, 0.0138, 0.1276, 0.9837, 0.6469,\n",
       "         0.8069, 0.5992, 0.8605, 0.1992, 0.1766, 0.3594, 0.6133, 0.8546, 0.0167,\n",
       "         0.9486],\n",
       "        [0.1457, 0.8524, 0.6410, 0.9738, 0.9966, 0.9436, 0.8214, 0.4433, 0.5528,\n",
       "         0.1411, 0.3225, 0.0510, 0.8891, 0.3378, 0.4607, 0.7372, 0.1120, 0.3785,\n",
       "         0.0959, 0.6816, 0.1625, 0.6218, 0.9900, 0.1302, 0.1203, 0.2675, 0.1016,\n",
       "         0.4954],\n",
       "        [0.4678, 0.9755, 0.7776, 0.0392, 0.9854, 0.1070, 0.7887, 0.2974, 0.5255,\n",
       "         0.3527, 0.9020, 0.4406, 0.1190, 0.9551, 0.0301, 0.8498, 0.5277, 0.5326,\n",
       "         0.5607, 0.4137, 0.5083, 0.6200, 0.0423, 0.2169, 0.2281, 0.2753, 0.3618,\n",
       "         0.3866],\n",
       "        [0.5554, 0.8322, 0.4824, 0.7689, 0.0790, 0.8334, 0.5221, 0.7335, 0.0315,\n",
       "         0.5007, 0.6759, 0.6311, 0.2422, 0.6114, 0.4320, 0.1979, 0.9877, 0.3033,\n",
       "         0.9491, 0.7725, 0.2866, 0.5672, 0.8421, 0.1761, 0.4773, 0.5538, 0.0691,\n",
       "         0.4764],\n",
       "        [0.2847, 0.5402, 0.6430, 0.0303, 0.6506, 0.1286, 0.1149, 0.6898, 0.8365,\n",
       "         0.6986, 0.4422, 0.3123, 0.0245, 0.4931, 0.4193, 0.1018, 0.8386, 0.4195,\n",
       "         0.1337, 0.8756, 0.2549, 0.5850, 0.5422, 0.1057, 0.1513, 0.6790, 0.8000,\n",
       "         0.3977],\n",
       "        [0.3529, 0.9373, 0.7722, 0.0659, 0.8327, 0.0287, 0.3969, 0.0673, 0.5278,\n",
       "         0.5105, 0.1071, 0.4580, 0.2635, 0.7096, 0.9741, 0.6843, 0.1798, 0.1273,\n",
       "         0.1394, 0.4205, 0.1590, 0.3050, 0.9653, 0.1649, 0.3502, 0.0242, 0.6721,\n",
       "         0.5983],\n",
       "        [0.0337, 0.3073, 0.3344, 0.2771, 0.6107, 0.7527, 0.5729, 0.6033, 0.3191,\n",
       "         0.8506, 0.4786, 0.3455, 0.9529, 0.7444, 0.5485, 0.2914, 0.7043, 0.6249,\n",
       "         0.5652, 0.1281, 0.8792, 0.1792, 0.7303, 0.7008, 0.6712, 0.5249, 0.0822,\n",
       "         0.3789]])"
      ]
     },
     "execution_count": 5,
     "metadata": {},
     "output_type": "execute_result"
    }
   ],
   "source": [
    "a[0,0]"
   ]
  },
  {
   "cell_type": "code",
   "execution_count": 6,
   "id": "20679522",
   "metadata": {},
   "outputs": [
    {
     "data": {
      "text/plain": [
       "torch.Size([28, 28])"
      ]
     },
     "execution_count": 6,
     "metadata": {},
     "output_type": "execute_result"
    }
   ],
   "source": [
    "a[0,0].shape"
   ]
  },
  {
   "cell_type": "code",
   "execution_count": 7,
   "id": "224dac24",
   "metadata": {},
   "outputs": [
    {
     "data": {
      "text/plain": [
       "tensor(0.3016)"
      ]
     },
     "execution_count": 7,
     "metadata": {},
     "output_type": "execute_result"
    }
   ],
   "source": [
    "a[0,0,2,4]"
   ]
  },
  {
   "cell_type": "code",
   "execution_count": 8,
   "id": "67743f3a",
   "metadata": {},
   "outputs": [
    {
     "data": {
      "text/plain": [
       "torch.Size([])"
      ]
     },
     "execution_count": 8,
     "metadata": {},
     "output_type": "execute_result"
    }
   ],
   "source": [
    "a[0,0,2,4].shape"
   ]
  },
  {
   "cell_type": "code",
   "execution_count": null,
   "id": "e3aea579",
   "metadata": {},
   "outputs": [],
   "source": []
  },
  {
   "cell_type": "markdown",
   "id": "14b69dec",
   "metadata": {},
   "source": [
    "### 1.2 一般的切片索引："
   ]
  },
  {
   "cell_type": "code",
   "execution_count": 9,
   "id": "c12af9fb",
   "metadata": {},
   "outputs": [
    {
     "data": {
      "text/plain": [
       "torch.Size([4, 3, 28, 28])"
      ]
     },
     "execution_count": 9,
     "metadata": {},
     "output_type": "execute_result"
    }
   ],
   "source": [
    "a.shape"
   ]
  },
  {
   "cell_type": "code",
   "execution_count": 10,
   "id": "84b1beca",
   "metadata": {},
   "outputs": [
    {
     "data": {
      "text/plain": [
       "torch.Size([2, 3, 28, 28])"
      ]
     },
     "execution_count": 10,
     "metadata": {},
     "output_type": "execute_result"
    }
   ],
   "source": [
    "# 默认从dim 0开始索引\n",
    "a[:2].shape"
   ]
  },
  {
   "cell_type": "code",
   "execution_count": 11,
   "id": "c7144cbf",
   "metadata": {},
   "outputs": [
    {
     "data": {
      "text/plain": [
       "torch.Size([2, 1, 28, 28])"
      ]
     },
     "execution_count": 11,
     "metadata": {},
     "output_type": "execute_result"
    }
   ],
   "source": [
    "a[:2,:1,:,:].shape"
   ]
  },
  {
   "cell_type": "code",
   "execution_count": 12,
   "id": "75f41e34",
   "metadata": {},
   "outputs": [
    {
     "data": {
      "text/plain": [
       "torch.Size([2, 28, 28])"
      ]
     },
     "execution_count": 12,
     "metadata": {},
     "output_type": "execute_result"
    }
   ],
   "source": [
    "a[:2,1,:,:].shape"
   ]
  },
  {
   "cell_type": "code",
   "execution_count": 13,
   "id": "26153e29",
   "metadata": {},
   "outputs": [
    {
     "data": {
      "text/plain": [
       "torch.Size([2, 1, 28, 28])"
      ]
     },
     "execution_count": 13,
     "metadata": {},
     "output_type": "execute_result"
    }
   ],
   "source": [
    "a[:2,-1:,:,:].shape"
   ]
  },
  {
   "cell_type": "code",
   "execution_count": null,
   "id": "0c0a2aee",
   "metadata": {},
   "outputs": [],
   "source": []
  },
  {
   "cell_type": "markdown",
   "id": "5e0e5d18",
   "metadata": {},
   "source": [
    "### 1.3 使用step进行索引："
   ]
  },
  {
   "cell_type": "code",
   "execution_count": 14,
   "id": "d01c012a",
   "metadata": {},
   "outputs": [
    {
     "data": {
      "text/plain": [
       "torch.Size([4, 3, 28, 28])"
      ]
     },
     "execution_count": 14,
     "metadata": {},
     "output_type": "execute_result"
    }
   ],
   "source": [
    "a.shape"
   ]
  },
  {
   "cell_type": "code",
   "execution_count": 15,
   "id": "779b91d4",
   "metadata": {},
   "outputs": [
    {
     "data": {
      "text/plain": [
       "torch.Size([2, 1, 28, 28])"
      ]
     },
     "execution_count": 15,
     "metadata": {},
     "output_type": "execute_result"
    }
   ],
   "source": [
    "a[:2,-1:,:,:].shape"
   ]
  },
  {
   "cell_type": "code",
   "execution_count": 16,
   "id": "fd770feb",
   "metadata": {},
   "outputs": [
    {
     "data": {
      "text/plain": [
       "torch.Size([4, 3, 14, 14])"
      ]
     },
     "execution_count": 16,
     "metadata": {},
     "output_type": "execute_result"
    }
   ],
   "source": [
    "# 通过设置step（步长），进行隔行采样\n",
    "a[:,:,0:28:2,0:28:2].shape"
   ]
  },
  {
   "cell_type": "code",
   "execution_count": 17,
   "id": "110cb625",
   "metadata": {},
   "outputs": [
    {
     "data": {
      "text/plain": [
       "torch.Size([4, 3, 14, 14])"
      ]
     },
     "execution_count": 17,
     "metadata": {},
     "output_type": "execute_result"
    }
   ],
   "source": [
    "# 下面的方式等同于上面的方式\n",
    "a[:,:,::2,::2].shape"
   ]
  },
  {
   "cell_type": "code",
   "execution_count": null,
   "id": "62c5c8fe",
   "metadata": {},
   "outputs": [],
   "source": []
  },
  {
   "cell_type": "markdown",
   "id": "d828896b",
   "metadata": {},
   "source": [
    "### 1.4 通过特定下标进行索引："
   ]
  },
  {
   "cell_type": "code",
   "execution_count": 18,
   "id": "619e1a75",
   "metadata": {},
   "outputs": [
    {
     "data": {
      "text/plain": [
       "torch.Size([4, 3, 28, 28])"
      ]
     },
     "execution_count": 18,
     "metadata": {},
     "output_type": "execute_result"
    }
   ],
   "source": [
    "a.shape"
   ]
  },
  {
   "cell_type": "code",
   "execution_count": 19,
   "id": "749f1f1b",
   "metadata": {
    "scrolled": true
   },
   "outputs": [
    {
     "data": {
      "text/plain": [
       "torch.Size([2, 3, 28, 28])"
      ]
     },
     "execution_count": 19,
     "metadata": {},
     "output_type": "execute_result"
    }
   ],
   "source": [
    "# 索引dim 0的第0和第2个数据\n",
    "a.index_select(dim=0 , index=torch.tensor([0,2] , dtype=torch.long)).shape"
   ]
  },
  {
   "cell_type": "code",
   "execution_count": 20,
   "id": "2be67fde",
   "metadata": {},
   "outputs": [
    {
     "data": {
      "text/plain": [
       "torch.Size([4, 2, 28, 28])"
      ]
     },
     "execution_count": 20,
     "metadata": {},
     "output_type": "execute_result"
    }
   ],
   "source": [
    "# 索引dim 1的第0和第2个数据\n",
    "a.index_select(1,torch.tensor([0,2])).shape"
   ]
  },
  {
   "cell_type": "code",
   "execution_count": 21,
   "id": "8a960ab5",
   "metadata": {},
   "outputs": [
    {
     "data": {
      "text/plain": [
       "torch.Size([4, 3, 8, 28])"
      ]
     },
     "execution_count": 21,
     "metadata": {},
     "output_type": "execute_result"
    }
   ],
   "source": [
    "# 索引dim 2的第0-7的8个数据\n",
    "a.index_select(2,torch.arange(8)).shape"
   ]
  },
  {
   "cell_type": "code",
   "execution_count": null,
   "id": "df027ec4",
   "metadata": {},
   "outputs": [],
   "source": []
  },
  {
   "cell_type": "markdown",
   "id": "dd991000",
   "metadata": {},
   "source": [
    "### 1.5 通过...(任意多维度)进行索引："
   ]
  },
  {
   "cell_type": "code",
   "execution_count": 22,
   "id": "621f4aaf",
   "metadata": {},
   "outputs": [
    {
     "data": {
      "text/plain": [
       "torch.Size([4, 3, 28, 28])"
      ]
     },
     "execution_count": 22,
     "metadata": {},
     "output_type": "execute_result"
    }
   ],
   "source": [
    "a.shape"
   ]
  },
  {
   "cell_type": "code",
   "execution_count": 23,
   "id": "8d891c80",
   "metadata": {},
   "outputs": [
    {
     "data": {
      "text/plain": [
       "torch.Size([4, 3, 28, 28])"
      ]
     },
     "execution_count": 23,
     "metadata": {},
     "output_type": "execute_result"
    }
   ],
   "source": [
    "# 此种情况代表四个维度都取\n",
    "a[...].shape"
   ]
  },
  {
   "cell_type": "code",
   "execution_count": 24,
   "id": "773ceb05",
   "metadata": {},
   "outputs": [
    {
     "data": {
      "text/plain": [
       "torch.Size([3, 28, 28])"
      ]
     },
     "execution_count": 24,
     "metadata": {},
     "output_type": "execute_result"
    }
   ],
   "source": [
    "# dim 0取第0个，后面3个dim都取\n",
    "a[0,...].shape"
   ]
  },
  {
   "cell_type": "code",
   "execution_count": 25,
   "id": "27bcb727",
   "metadata": {},
   "outputs": [
    {
     "data": {
      "text/plain": [
       "torch.Size([4, 28, 28])"
      ]
     },
     "execution_count": 25,
     "metadata": {},
     "output_type": "execute_result"
    }
   ],
   "source": [
    "# dim 0全取，dim 1取第1个，后面2个dim都取\n",
    "a[:,1,...].shape"
   ]
  },
  {
   "cell_type": "code",
   "execution_count": 26,
   "id": "8a306e20",
   "metadata": {},
   "outputs": [
    {
     "data": {
      "text/plain": [
       "torch.Size([4, 3, 28, 2])"
      ]
     },
     "execution_count": 26,
     "metadata": {},
     "output_type": "execute_result"
    }
   ],
   "source": [
    "# 最后一个dim取第0和第1，前面的dim都取\n",
    "a[...,:2].shape"
   ]
  },
  {
   "cell_type": "code",
   "execution_count": null,
   "id": "d9f85651",
   "metadata": {},
   "outputs": [],
   "source": []
  },
  {
   "cell_type": "markdown",
   "id": "b1a2ca88",
   "metadata": {},
   "source": [
    "### 1.6 通过mask（掩码）进行索引："
   ]
  },
  {
   "cell_type": "code",
   "execution_count": 27,
   "id": "5c962858",
   "metadata": {},
   "outputs": [
    {
     "data": {
      "text/plain": [
       "tensor([[ 1.0152,  0.6072, -0.3388,  2.1547],\n",
       "        [-0.0741,  0.9814,  1.1197, -1.0260],\n",
       "        [ 1.5267, -0.7220,  0.0235,  0.6595]])"
      ]
     },
     "execution_count": 27,
     "metadata": {},
     "output_type": "execute_result"
    }
   ],
   "source": [
    "x = torch.randn(3,4)\n",
    "x"
   ]
  },
  {
   "cell_type": "code",
   "execution_count": 28,
   "id": "c4051ece",
   "metadata": {},
   "outputs": [
    {
     "data": {
      "text/plain": [
       "tensor([[ True,  True, False,  True],\n",
       "        [False,  True,  True, False],\n",
       "        [ True, False, False,  True]])"
      ]
     },
     "execution_count": 28,
     "metadata": {},
     "output_type": "execute_result"
    }
   ],
   "source": [
    "# 得到＞0.5的数据的掩码\n",
    "mask = x.ge(0.5) # 等价于x>0.5\n",
    "mask"
   ]
  },
  {
   "cell_type": "code",
   "execution_count": 29,
   "id": "bfa0cf70",
   "metadata": {},
   "outputs": [
    {
     "data": {
      "text/plain": [
       "tensor([1.0152, 0.6072, 2.1547, 0.9814, 1.1197, 1.5267, 0.6595])"
      ]
     },
     "execution_count": 29,
     "metadata": {},
     "output_type": "execute_result"
    }
   ],
   "source": [
    "# 使用torch.masked_select()函数选择\n",
    "torch.masked_select(x,mask)"
   ]
  },
  {
   "cell_type": "code",
   "execution_count": 30,
   "id": "da653def",
   "metadata": {},
   "outputs": [
    {
     "data": {
      "text/plain": [
       "torch.Size([7])"
      ]
     },
     "execution_count": 30,
     "metadata": {},
     "output_type": "execute_result"
    }
   ],
   "source": [
    "# 得到的数据会被打平（dim为1）\n",
    "torch.masked_select(x,mask).shape"
   ]
  },
  {
   "cell_type": "code",
   "execution_count": 31,
   "id": "7136e25c",
   "metadata": {},
   "outputs": [
    {
     "data": {
      "text/plain": [
       "tensor([1.0152, 0.6072, 2.1547, 0.9814, 1.1197, 1.5267, 0.6595])"
      ]
     },
     "execution_count": 31,
     "metadata": {},
     "output_type": "execute_result"
    }
   ],
   "source": [
    "x[mask]"
   ]
  },
  {
   "cell_type": "code",
   "execution_count": 32,
   "id": "c9a8259e",
   "metadata": {},
   "outputs": [
    {
     "data": {
      "text/plain": [
       "torch.Size([7])"
      ]
     },
     "execution_count": 32,
     "metadata": {},
     "output_type": "execute_result"
    }
   ],
   "source": [
    "x[mask].shape"
   ]
  },
  {
   "cell_type": "code",
   "execution_count": null,
   "id": "8a3e79ab",
   "metadata": {},
   "outputs": [],
   "source": []
  },
  {
   "cell_type": "markdown",
   "id": "2955c58b",
   "metadata": {},
   "source": [
    "### 1.7 通过take（掩码）进行索引："
   ]
  },
  {
   "cell_type": "code",
   "execution_count": 33,
   "id": "4a1f9bf6",
   "metadata": {},
   "outputs": [
    {
     "data": {
      "text/plain": [
       "tensor([[1, 2, 3],\n",
       "        [4, 5, 6],\n",
       "        [7, 8, 9]])"
      ]
     },
     "execution_count": 33,
     "metadata": {},
     "output_type": "execute_result"
    }
   ],
   "source": [
    "x = torch.tensor([[1,2,3],[4,5,6],[7,8,9]])\n",
    "x"
   ]
  },
  {
   "cell_type": "code",
   "execution_count": 34,
   "id": "6aad4d7f",
   "metadata": {},
   "outputs": [
    {
     "data": {
      "text/plain": [
       "torch.Size([3, 3])"
      ]
     },
     "execution_count": 34,
     "metadata": {},
     "output_type": "execute_result"
    }
   ],
   "source": [
    "x.shape"
   ]
  },
  {
   "cell_type": "code",
   "execution_count": 35,
   "id": "74c5af01",
   "metadata": {},
   "outputs": [
    {
     "data": {
      "text/plain": [
       "tensor([1, 3, 6, 8])"
      ]
     },
     "execution_count": 35,
     "metadata": {},
     "output_type": "execute_result"
    }
   ],
   "source": [
    "torch.take(x,torch.tensor([0,2,5,7]))"
   ]
  },
  {
   "cell_type": "code",
   "execution_count": null,
   "id": "8085c87c",
   "metadata": {},
   "outputs": [],
   "source": []
  },
  {
   "cell_type": "markdown",
   "id": "93258c01",
   "metadata": {},
   "source": [
    "## 2.应用举例："
   ]
  },
  {
   "cell_type": "markdown",
   "id": "6f305a08",
   "metadata": {},
   "source": [
    "### 索引和切片操作常用于从数据集中提取特定的样本或特征"
   ]
  },
  {
   "cell_type": "code",
   "execution_count": 36,
   "id": "5b5033f9",
   "metadata": {},
   "outputs": [],
   "source": [
    "# 假设有一个形状为(1000, 10, 28, 28)的数据集，表示1000个样本，每个样本有10个通道，每个通道是28x28的图像  \n",
    "data = torch.rand(1000, 10, 28, 28)  \n",
    "\n",
    "# 提取第5个样本的所有通道  \n",
    "sample = data[4]  # 形状为(10, 28, 28)  \n",
    "\n",
    "# 提取前100个样本的第1个通道  \n",
    "channel = data[:100, 0]  # 形状为(100, 28, 28)"
   ]
  },
  {
   "cell_type": "code",
   "execution_count": 37,
   "id": "93983cf1",
   "metadata": {},
   "outputs": [
    {
     "data": {
      "text/plain": [
       "torch.Size([10, 28, 28])"
      ]
     },
     "execution_count": 37,
     "metadata": {},
     "output_type": "execute_result"
    }
   ],
   "source": [
    "sample.shape"
   ]
  },
  {
   "cell_type": "code",
   "execution_count": 38,
   "id": "94e1f6b2",
   "metadata": {},
   "outputs": [
    {
     "data": {
      "text/plain": [
       "torch.Size([100, 28, 28])"
      ]
     },
     "execution_count": 38,
     "metadata": {},
     "output_type": "execute_result"
    }
   ],
   "source": [
    "channel.shape"
   ]
  },
  {
   "cell_type": "markdown",
   "id": "cddb32de",
   "metadata": {},
   "source": [
    "### 索引和切片操作可以用于实现各种数据增强技术，如随机裁剪、翻转等"
   ]
  },
  {
   "cell_type": "code",
   "execution_count": 39,
   "id": "071e3fd5",
   "metadata": {},
   "outputs": [],
   "source": [
    "# 随机裁剪一个图像  \n",
    "image = torch.rand(3, 224, 224)  # 假设有一个3通道224x224的图像  \n",
    "crop_size = (200, 200)  \n",
    "start = (torch.rand(2) * (224 - 200)).long()  # 随机计算裁剪的起始位置  \n",
    "cropped_image = image[:, start[0]:start[0]+crop_size[0], start[1]:start[1]+crop_size[1]]"
   ]
  },
  {
   "cell_type": "code",
   "execution_count": 40,
   "id": "25f4c917",
   "metadata": {},
   "outputs": [
    {
     "data": {
      "text/plain": [
       "torch.Size([3, 200, 200])"
      ]
     },
     "execution_count": 40,
     "metadata": {},
     "output_type": "execute_result"
    }
   ],
   "source": [
    "cropped_image.shape"
   ]
  },
  {
   "cell_type": "markdown",
   "id": "0cae0e5b",
   "metadata": {},
   "source": [
    "### 索引和切片操作可以用于提取一个batch中的样本，或者从模型的输出中提取特定的信息"
   ]
  },
  {
   "cell_type": "code",
   "execution_count": 41,
   "id": "abe5a62c",
   "metadata": {},
   "outputs": [],
   "source": [
    "# 假设模型的输出是一个形状为(batch_size, num_classes)的Tensor  \n",
    "outputs = torch.rand(64, 10)  \n",
    "\n",
    "# 提取第一个样本的输出  \n",
    "first_output = outputs[0]  \n",
    "\n",
    "# 提取一个batch中所有样本的第3个类别的输出  \n",
    "third_class_outputs = outputs[:, 2]"
   ]
  },
  {
   "cell_type": "code",
   "execution_count": 42,
   "id": "2baa182e",
   "metadata": {},
   "outputs": [
    {
     "data": {
      "text/plain": [
       "torch.Size([10])"
      ]
     },
     "execution_count": 42,
     "metadata": {},
     "output_type": "execute_result"
    }
   ],
   "source": [
    "first_output.shape"
   ]
  },
  {
   "cell_type": "code",
   "execution_count": 43,
   "id": "6bdc9ed8",
   "metadata": {},
   "outputs": [
    {
     "data": {
      "text/plain": [
       "torch.Size([64])"
      ]
     },
     "execution_count": 43,
     "metadata": {},
     "output_type": "execute_result"
    }
   ],
   "source": [
    "third_class_outputs.shape"
   ]
  },
  {
   "cell_type": "code",
   "execution_count": null,
   "id": "f204f73e",
   "metadata": {},
   "outputs": [],
   "source": []
  },
  {
   "cell_type": "code",
   "execution_count": null,
   "id": "2fa59390",
   "metadata": {},
   "outputs": [],
   "source": []
  },
  {
   "cell_type": "code",
   "execution_count": null,
   "id": "dad90e56",
   "metadata": {},
   "outputs": [],
   "source": []
  }
 ],
 "metadata": {
  "kernelspec": {
   "display_name": "Python 3 (ipykernel)",
   "language": "python",
   "name": "python3"
  },
  "language_info": {
   "codemirror_mode": {
    "name": "ipython",
    "version": 3
   },
   "file_extension": ".py",
   "mimetype": "text/x-python",
   "name": "python",
   "nbconvert_exporter": "python",
   "pygments_lexer": "ipython3",
   "version": "3.9.16"
  }
 },
 "nbformat": 4,
 "nbformat_minor": 5
}
