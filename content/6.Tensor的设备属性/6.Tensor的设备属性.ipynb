{
 "cells": [
  {
   "cell_type": "code",
   "execution_count": 1,
   "id": "6cc40916",
   "metadata": {},
   "outputs": [],
   "source": [
    "import torch"
   ]
  },
  {
   "cell_type": "markdown",
   "id": "61bf34d4",
   "metadata": {},
   "source": [
    "## 1.Tensor的设备属性："
   ]
  },
  {
   "cell_type": "code",
   "execution_count": 2,
   "id": "ccfff0cf",
   "metadata": {},
   "outputs": [
    {
     "name": "stdout",
     "output_type": "stream",
     "text": [
      "Using GPU: cuda:0\n"
     ]
    }
   ],
   "source": [
    "# 首先检查是否有可用的GPU，并据此设置一个设备标识符。\n",
    "# 然后，创建一个Tensor，并将其指定到选定的设备上。\n",
    "if torch.cuda.is_available():  \n",
    "    device = \"cuda:0\"  \n",
    "    print(f\"Using GPU: {device}\")  \n",
    "else:  \n",
    "    device = \"cpu\"  \n",
    "    print(\"Using CPU\")"
   ]
  },
  {
   "cell_type": "markdown",
   "id": "9074d4cb",
   "metadata": {},
   "source": [
    "## 2.设置Tensor的设备属性："
   ]
  },
  {
   "cell_type": "markdown",
   "id": "fef3e1d1",
   "metadata": {},
   "source": [
    "### 2.1 在创建时指定："
   ]
  },
  {
   "cell_type": "code",
   "execution_count": 3,
   "id": "0a712bd7",
   "metadata": {},
   "outputs": [],
   "source": [
    "# 创建一个在指定设备上的Tensor\n",
    "device = torch.device(\"cuda\" if torch.cuda.is_available() else \"cpu\")  \n",
    "tensor_on_gpu = torch.tensor([1.0, 2.0, 3.0], device=device)"
   ]
  },
  {
   "cell_type": "code",
   "execution_count": 4,
   "id": "22cf08d1",
   "metadata": {},
   "outputs": [
    {
     "data": {
      "text/plain": [
       "device(type='cuda', index=0)"
      ]
     },
     "execution_count": 4,
     "metadata": {},
     "output_type": "execute_result"
    }
   ],
   "source": [
    "tensor_on_gpu.device"
   ]
  },
  {
   "cell_type": "code",
   "execution_count": null,
   "id": "371c349a",
   "metadata": {},
   "outputs": [],
   "source": []
  },
  {
   "cell_type": "markdown",
   "id": "122b9f55",
   "metadata": {},
   "source": [
    "### 2.2 使用to()方法："
   ]
  },
  {
   "cell_type": "code",
   "execution_count": 5,
   "id": "c530d987",
   "metadata": {},
   "outputs": [
    {
     "data": {
      "text/plain": [
       "device(type='cpu')"
      ]
     },
     "execution_count": 5,
     "metadata": {},
     "output_type": "execute_result"
    }
   ],
   "source": [
    "# 假设我们有一个在CPU上的Tensor  \n",
    "tensor_on_cpu = torch.tensor([1.0, 2.0, 3.0])\n",
    "tensor_on_cpu.device"
   ]
  },
  {
   "cell_type": "code",
   "execution_count": 6,
   "id": "e715013f",
   "metadata": {},
   "outputs": [
    {
     "data": {
      "text/plain": [
       "device(type='cuda', index=0)"
      ]
     },
     "execution_count": 6,
     "metadata": {},
     "output_type": "execute_result"
    }
   ],
   "source": [
    "# 将其移动到GPU上（如果可用）  \n",
    "tensor_on_gpu = tensor_on_cpu.to(device=\"cuda\")\n",
    "tensor_on_gpu.device"
   ]
  },
  {
   "cell_type": "code",
   "execution_count": null,
   "id": "2bd3bdb1",
   "metadata": {},
   "outputs": [],
   "source": []
  },
  {
   "cell_type": "markdown",
   "id": "12f14ffb",
   "metadata": {},
   "source": [
    "### 2.3 使用cpu()、cuda()方法："
   ]
  },
  {
   "cell_type": "code",
   "execution_count": 7,
   "id": "7879d5a5",
   "metadata": {},
   "outputs": [
    {
     "data": {
      "text/plain": [
       "device(type='cpu')"
      ]
     },
     "execution_count": 7,
     "metadata": {},
     "output_type": "execute_result"
    }
   ],
   "source": [
    "# 假设我们有一个在CPU上的Tensor  \n",
    "tensor_on_cpu = torch.tensor([1.0, 2.0, 3.0])\n",
    "tensor_on_cpu.device"
   ]
  },
  {
   "cell_type": "code",
   "execution_count": 8,
   "id": "14e4b627",
   "metadata": {},
   "outputs": [
    {
     "data": {
      "text/plain": [
       "device(type='cuda', index=0)"
      ]
     },
     "execution_count": 8,
     "metadata": {},
     "output_type": "execute_result"
    }
   ],
   "source": [
    "# 将其移动到GPU上（如果可用）  \n",
    "tensor_on_gpu = tensor_on_cpu.cuda()\n",
    "tensor_on_gpu.device"
   ]
  },
  {
   "cell_type": "code",
   "execution_count": 9,
   "id": "661774b6",
   "metadata": {},
   "outputs": [
    {
     "data": {
      "text/plain": [
       "device(type='cpu')"
      ]
     },
     "execution_count": 9,
     "metadata": {},
     "output_type": "execute_result"
    }
   ],
   "source": [
    "# 再将其移动到CPU上\n",
    "tensor_on_cpu = tensor_on_gpu.cpu()\n",
    "tensor_on_cpu.device"
   ]
  },
  {
   "cell_type": "code",
   "execution_count": null,
   "id": "916141d7",
   "metadata": {},
   "outputs": [],
   "source": []
  },
  {
   "cell_type": "code",
   "execution_count": null,
   "id": "907fedea",
   "metadata": {},
   "outputs": [],
   "source": []
  },
  {
   "cell_type": "code",
   "execution_count": null,
   "id": "2ec029e3",
   "metadata": {},
   "outputs": [],
   "source": []
  },
  {
   "cell_type": "code",
   "execution_count": null,
   "id": "9490d5d1",
   "metadata": {},
   "outputs": [],
   "source": []
  },
  {
   "cell_type": "code",
   "execution_count": null,
   "id": "7351b8e1",
   "metadata": {},
   "outputs": [],
   "source": []
  },
  {
   "cell_type": "code",
   "execution_count": null,
   "id": "73750de4",
   "metadata": {},
   "outputs": [],
   "source": []
  },
  {
   "cell_type": "code",
   "execution_count": null,
   "id": "cfc08e5b",
   "metadata": {},
   "outputs": [],
   "source": []
  },
  {
   "cell_type": "code",
   "execution_count": null,
   "id": "5e76a939",
   "metadata": {},
   "outputs": [],
   "source": []
  },
  {
   "cell_type": "code",
   "execution_count": null,
   "id": "09adc74e",
   "metadata": {},
   "outputs": [],
   "source": []
  },
  {
   "cell_type": "code",
   "execution_count": null,
   "id": "e511f64c",
   "metadata": {},
   "outputs": [],
   "source": []
  },
  {
   "cell_type": "code",
   "execution_count": null,
   "id": "a8047d1a",
   "metadata": {},
   "outputs": [],
   "source": []
  },
  {
   "cell_type": "code",
   "execution_count": null,
   "id": "7aba6ccf",
   "metadata": {},
   "outputs": [],
   "source": []
  },
  {
   "cell_type": "code",
   "execution_count": null,
   "id": "2e42008e",
   "metadata": {},
   "outputs": [],
   "source": []
  },
  {
   "cell_type": "code",
   "execution_count": null,
   "id": "57d2e63a",
   "metadata": {},
   "outputs": [],
   "source": []
  },
  {
   "cell_type": "code",
   "execution_count": null,
   "id": "00481ae2",
   "metadata": {},
   "outputs": [],
   "source": []
  },
  {
   "cell_type": "code",
   "execution_count": null,
   "id": "d78177ef",
   "metadata": {},
   "outputs": [],
   "source": []
  },
  {
   "cell_type": "code",
   "execution_count": null,
   "id": "aec9326a",
   "metadata": {},
   "outputs": [],
   "source": []
  },
  {
   "cell_type": "code",
   "execution_count": null,
   "id": "9f365e63",
   "metadata": {},
   "outputs": [],
   "source": []
  }
 ],
 "metadata": {
  "kernelspec": {
   "display_name": "Python 3 (ipykernel)",
   "language": "python",
   "name": "python3"
  },
  "language_info": {
   "codemirror_mode": {
    "name": "ipython",
    "version": 3
   },
   "file_extension": ".py",
   "mimetype": "text/x-python",
   "name": "python",
   "nbconvert_exporter": "python",
   "pygments_lexer": "ipython3",
   "version": "3.9.16"
  }
 },
 "nbformat": 4,
 "nbformat_minor": 5
}
